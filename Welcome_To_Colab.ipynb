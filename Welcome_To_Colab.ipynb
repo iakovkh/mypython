{
  "cells": [
    {
      "cell_type": "markdown",
      "metadata": {
        "id": "view-in-github",
        "colab_type": "text"
      },
      "source": [
        "<a href=\"https://colab.research.google.com/github/iakovkh/mypython/blob/main/Welcome_To_Colab.ipynb\" target=\"_parent\"><img src=\"https://colab.research.google.com/assets/colab-badge.svg\" alt=\"Open In Colab\"/></a>"
      ]
    },
    {
      "cell_type": "code",
      "source": [
        "import pandas as pd\n",
        "\n",
        "def read_excel_file(file_path):\n",
        "    # Read the Excel file into a DataFrame\n",
        "    data = pd.read_excel(file_path)\n",
        "    return data\n",
        "\n",
        "# Example usage\n",
        "file_path = '/content/SPY_sample.xlsx'\n",
        "data = read_excel_file(file_path)\n",
        "\n",
        "# Print the data to verify\n",
        "print(data)"
      ],
      "metadata": {
        "colab": {
          "base_uri": "https://localhost:8080/"
        },
        "id": "K1w3qb9b_WfW",
        "outputId": "f7e00e6b-917e-44ec-97ef-65469f72d1b7"
      },
      "execution_count": 2,
      "outputs": [
        {
          "output_type": "stream",
          "name": "stdout",
          "text": [
            "          Date     Open     High      Low    Close\n",
            "0   2024-08-30  5612.74  5651.37  5581.79  5648.40\n",
            "1   2024-08-29  5607.30  5646.95  5583.71  5591.96\n",
            "2   2024-08-28  5624.51  5627.03  5560.95  5592.18\n",
            "3   2024-08-27  5602.89  5631.18  5593.48  5625.80\n",
            "4   2024-08-26  5639.66  5651.62  5602.34  5616.84\n",
            "..         ...      ...      ...      ...      ...\n",
            "248 2023-09-06  4490.35  4490.35  4442.38  4465.48\n",
            "249 2023-09-05  4510.06  4514.29  4496.01  4496.83\n",
            "250 2023-09-01  4530.85  4541.25  4501.35  4515.77\n",
            "251 2023-08-31  4517.01  4532.26  4507.39  4507.66\n",
            "252 2023-08-30  4500.34  4521.65  4493.59  4514.87\n",
            "\n",
            "[253 rows x 5 columns]\n"
          ]
        }
      ]
    }
  ],
  "metadata": {
    "colab": {
      "name": "Welcome To Colab",
      "provenance": [],
      "include_colab_link": true
    },
    "kernelspec": {
      "display_name": "Python 3",
      "name": "python3"
    }
  },
  "nbformat": 4,
  "nbformat_minor": 0
}